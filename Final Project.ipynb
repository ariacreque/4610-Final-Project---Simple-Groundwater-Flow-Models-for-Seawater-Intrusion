{
 "cells": [
  {
   "cell_type": "code",
   "execution_count": 1,
   "id": "6d35b8d6",
   "metadata": {},
   "outputs": [],
   "source": [
    "import numpy as np\n",
    "import matplotlib.pyplot as plt\n",
    "from scipy.sparse import spdiags"
   ]
  },
  {
   "cell_type": "code",
   "execution_count": 4,
   "id": "e4c70ba2",
   "metadata": {},
   "outputs": [],
   "source": [
    "k = 2 #m/d   hydraulic conductivity\n",
    "n = 0.2  #effective porosity\n",
    "S = 0  #storage coeff\n",
    "H = 45  #m #thickness of the aquifer\n",
    "zb = -45 #m #bottom of aquifer\n",
    "zt = 0 #m #top of aquifer\n",
    "L = 1000 #m #length of the cross section\n",
    "W = 1 #m #width of cross-section normal to the plane of flow\n",
    "vs = 0.025 #dimensionless velocity\n",
    "\n",
    "tau = k*vs*(zt-zb)\n",
    "\n",
    "t = np.linspace(0,36500,3660)  #days = 100 years\n",
    "x = np.linspace(0,L,L+1)\n",
    "\n",
    "dx = 10\n",
    "dt = 182\n",
    "\n",
    "Q0 = 0.1 #m^2/d   outflow\n",
    "Q0p = 0.05 #m^2/d   outflow when water is pumped from the ditch\n",
    "zeta0 = -Q0/k*vs\n",
    "zeta0p = -Q0p/k*vs\n",
    "\n",
    "h0 = 0.05 #m\n",
    "\n",
    "CD = 1"
   ]
  },
  {
   "cell_type": "code",
   "execution_count": 5,
   "id": "fc3d1d5a",
   "metadata": {},
   "outputs": [],
   "source": [
    "data = np.array([-0.5*CD*np.ones(L+1), (1+CD)*np.ones(L+1), -0.5*CD*np.ones(L+1)])\n",
    "diags = np.array([-1,0,1])\n",
    "M = spdiags(data,diags,L-1,L-1).toarray()\n",
    "\n",
    "data2 = np.array([0.5*CD*np.ones(L+1), (1-CD)*np.ones(L+1), 0.5*CD*np.ones(L+1)])\n",
    "diags2 = np.array([-1,0,1])\n",
    "M2 = spdiags(data2,diags2,L-1,L-1).toarray()"
   ]
  },
  {
   "cell_type": "code",
   "execution_count": null,
   "id": "aa97e68b",
   "metadata": {},
   "outputs": [],
   "source": []
  }
 ],
 "metadata": {
  "kernelspec": {
   "display_name": "Python 3",
   "language": "python",
   "name": "python3"
  },
  "language_info": {
   "codemirror_mode": {
    "name": "ipython",
    "version": 3
   },
   "file_extension": ".py",
   "mimetype": "text/x-python",
   "name": "python",
   "nbconvert_exporter": "python",
   "pygments_lexer": "ipython3",
   "version": "3.8.8"
  }
 },
 "nbformat": 4,
 "nbformat_minor": 5
}
