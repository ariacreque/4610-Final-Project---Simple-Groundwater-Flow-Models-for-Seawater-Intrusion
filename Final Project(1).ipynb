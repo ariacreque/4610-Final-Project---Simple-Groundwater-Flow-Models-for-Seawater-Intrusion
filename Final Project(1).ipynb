{
 "cells": [
  {
   "cell_type": "markdown",
   "id": "8e6397c8",
   "metadata": {},
   "source": [
    "# Introduction"
   ]
  },
  {
   "cell_type": "markdown",
   "id": "de22b63c",
   "metadata": {},
   "source": [
    "# Equations"
   ]
  },
  {
   "cell_type": "markdown",
   "id": "92523648",
   "metadata": {},
   "source": [
    "# Numerical Methods"
   ]
  },
  {
   "cell_type": "code",
   "execution_count": 11,
   "id": "482548dc",
   "metadata": {},
   "outputs": [
    {
     "name": "stderr",
     "output_type": "stream",
     "text": [
      "<ipython-input-11-ab4b6891ac2b>:112: RuntimeWarning: overflow encountered in matmul\n",
      "  hi1[:,i+1] = M@hmat[:,i] + M2@zetai1[:,i] #+ N\n",
      "<ipython-input-11-ab4b6891ac2b>:113: RuntimeWarning: overflow encountered in matmul\n",
      "  zetai1[:,i+1] = A@zeta[:,i] + B@hi1[:,i+1] #+ dt/n\n",
      "<ipython-input-11-ab4b6891ac2b>:113: RuntimeWarning: invalid value encountered in matmul\n",
      "  zetai1[:,i+1] = A@zeta[:,i] + B@hi1[:,i+1] #+ dt/n\n"
     ]
    },
    {
     "name": "stdout",
     "output_type": "stream",
     "text": [
      "[[ 0.00000000e+00  3.42041306e+03  3.51385410e+07 ...             nan\n",
      "              nan             nan]\n",
      " [ 0.00000000e+00 -6.81343312e+03 -1.42737911e+09 ...             nan\n",
      "              nan             nan]\n",
      " [ 0.00000000e+00  1.69538062e+02  9.81524137e+08 ...             nan\n",
      "              nan             nan]\n",
      " ...\n",
      " [ 0.00000000e+00  0.00000000e+00  1.68789552e+07 ...             nan\n",
      "              nan             nan]\n",
      " [ 0.00000000e+00 -4.11750000e+01 -4.62871067e+08 ...             nan\n",
      "              nan             nan]\n",
      " [ 0.00000000e+00  3.29200000e+03  4.60127826e+08 ...             nan\n",
      "              nan             nan]]\n"
     ]
    },
    {
     "data": {
      "text/plain": [
       "'   \\nprint(np.size(zetai1))\\nprint(np.size(zeta))\\nprint(len(zetai1))\\nprint(len(zetai1[0]))\\nprint(zetai1)\\n\\n#creating the known matrices\\n#M**(k+1)\\nbins = np.array([-1/2*Cd*np.ones(n),(1+Cd)*np.ones(n),-1/2*Cd*np.ones(n)])\\ndiags = np.array([-1,0,1])\\nM_k1 = spdiags(bins,diags,n,n).toarray()\\n\\n#M**k\\nbins2 = np.array([1/2*Cd*np.ones(n),(1-Cd)*np.ones(n),1/2*Cd*np.ones(n)])\\nM_k = spdiags(bins2,diags,n,n).toarray()\\n\\n#A\\nA = np.ones(n,len(t))\\nA[1,:] = zeta0_a\\nA[-1,:] = zeta0_b\\n'"
      ]
     },
     "execution_count": 11,
     "metadata": {},
     "output_type": "execute_result"
    }
   ],
   "source": [
    "#EAS 4610 proj\n",
    "#crank-nicolson method \n",
    "\n",
    "# import packages\n",
    "import numpy as np\n",
    "import matplotlib.pyplot as plt\n",
    "import pylab as py\n",
    "import os\n",
    "import math\n",
    "from scipy.sparse import spdiags\n",
    "#import xarray as xr\n",
    "\n",
    "# parameters \n",
    "k = 2 #m/d\n",
    "n = 0.2 #effective porosity \n",
    "S = 1e-6 #storage coefficient \n",
    "H = 45 #m\n",
    "zb = -45 #bottom of the aquifer\n",
    "zt = 0 #top of the aquifer\n",
    "L = 1000 #m, length of cross section\n",
    "W = 1 #width of cross section normal to the plane of flow\n",
    "vs = 0.025 #dimensionless density \n",
    "# ditch is located 590 m from the coastline at x = 0\n",
    "h0 = 0.05 #m\n",
    "N = 0 #infiltration of freshwater\n",
    "\n",
    "tau = k*vs*(zt-zb)\n",
    "T = k*(zt-zb)\n",
    "\n",
    "# defining boundary conditions\n",
    "Q0 = 0.1 #m**2/d - outflow, uniform flow towards the coast\n",
    "Q0p = 0.05 #m**2/d - outflow when water is pumped from the ditch\n",
    "zeta0 = -Q0/(k*vs) #m - boundary condition at the coast - top \n",
    "zeta0p = -Q0p/(k*vs) \n",
    "# at x=0, h0 = 0.05 m and zeta0 = -2 m\n",
    "# at t=0, Q = -0.05 m**2/d\n",
    "zetaf = -h0/vs  #steady state condition, end of simulation\n",
    "\n",
    "\n",
    "# discretizing\n",
    "x = np.linspace(0,L,L+1)\n",
    "dx = 10 #m\n",
    "t = np.linspace(0,36500,200)\n",
    "dt = 183  #half a year in days\n",
    "\n",
    "#courant number \n",
    "# no diffusion number?\n",
    "D = 1\n",
    "CDz = tau*dt/(n*dx**2)\n",
    "CDh = T*dt/(D*dx**2) #rename to S, currently D as fake storage coeff\n",
    "\n",
    "#n should be the length of the spatial dimension\n",
    "#n = len(x)\n",
    "\n",
    "\n",
    "'''\n",
    "data_hi1 = np.array([-0.5*CD*np.ones(L+1), (1+CD)*np.ones(L+1), -0.5*CD*np.ones(L+1)])\n",
    "diags1 = np.array([-1,0,1])\n",
    "hi1 = spdiags(data_hi1,diags1,L-1,L-1).toarray()\n",
    "#above coeff matrix: is it needed? prob not\n",
    "\n",
    "data_hi = np.array([0.5*CD*np.ones(L+1), (1-CD)*np.ones(L+1), 0.5*CD*np.ones(L+1)])\n",
    "diags2 = np.array([-1,0,1])\n",
    "hi = spdiags(data_hi,diags2,L-1,L-1).toarray()\n",
    "\n",
    "\n",
    "data_zetai1 = np.array([-0.5*CD*np.ones(L+1), (1+CD)*np.ones(L+1), -0.5*CD*np.ones(L+1)])\n",
    "diags3 = np.array([-1,0,1])\n",
    "zetai1 = spdiags(data_zetai1,diags3,L-1,L-1).toarray()\n",
    "\n",
    "data_zetai = np.array([0.5*CD*np.ones(L+1), (1-CD)*np.ones(L+1), 0.5*CD*np.ones(L+1)])\n",
    "diags4 = np.array([-1,0,1])\n",
    "zetai = spdiags(data_zetai,diags4,L-1,L-1).toarray()\n",
    "'''\n",
    "data1 = np.array([CDh*np.ones(L+1), (1-2*CDh)*np.ones(L+1), CDh*np.ones(L+1)])\n",
    "diags1 = np.array([-1, 0, 1])\n",
    "M = spdiags(data1, diags1,L-1,L-1).toarray()\n",
    "\n",
    "data2 = np.array([CDh*np.ones(L+1), (1-CDh)*np.ones(L+1), CDh*np.ones(L+1)])\n",
    "diags2 = np.array([-1, 0, 1])\n",
    "M2 = spdiags(data2, diags2,L-1,L-1).toarray()\n",
    "\n",
    "data3 = np.array([CDz*np.ones(L+1), (1-2*CDz/vs)*np.ones(L+1), CDz*np.ones(L+1)])\n",
    "diags3 = np.array([-1, 0, 1])\n",
    "A = spdiags(data3, diags3,L-1,L-1).toarray()\n",
    "\n",
    "data4 = np.array([CDz*np.ones(L+1), (1-CDz/vs)*np.ones(L+1), CDz*np.ones(L+1)])\n",
    "diags4 = np.array([-1, 0, 1])\n",
    "B = spdiags(data4, diags4,L-1,L-1).toarray()\n",
    "\n",
    "M2[0,:] = 0\n",
    "M[0,:] = 0\n",
    "M[0,0] = 1\n",
    "\n",
    "hi1 = np.zeros((L-1,200))\n",
    "zetai1 = np.zeros((L-1,200))\n",
    "zeta = np.zeros((L-1,200))  #given values matrix for zeta\n",
    "hmat = np.zeros((L-1,200))  #given values matrix for h\n",
    "\n",
    "\n",
    "#hi1[:,0] = 10 ##CHANGE THIS VALUE, JUST A PLACEHOLDER, INITIAL CONDITION HERE\n",
    "hmat[0,:] = h0\n",
    "zeta[0,:] = zeta0\n",
    "zeta[-1,:] = zetaf\n",
    "\n",
    "#print(len(zeta))\n",
    "#print(len(zeta[0]))\n",
    "\n",
    "\n",
    "#print((hmat))\n",
    "for i in range(0,len(t)-1):\n",
    "    hi1[:,i+1] = M@hmat[:,i] + M2@zetai1[:,i] #+ N\n",
    "    zetai1[:,i+1] = A@zeta[:,i] + B@hi1[:,i+1] #+ dt/n\n",
    "    \n",
    " #   hi1[:,i+1] = np.matmul(M,hmat[:,i]) + np.matmul(M2,zetai1[:,i]) #+ N\n",
    "  #  zetai1[:,i+1] = np.matmul(A,zeta[:,i]) + np.matmul(B,hi1[:,i+1]) #+ dt/n\n",
    "  #  zetai1[:,i+1] = np.linalg.inv(hi1)@(hi@zetai1[:,i]+(0.5*CD)*zeta[:,i]-(-0.5*CD)*zeta[:,i+1])\n",
    "  #  hi1[:,i+1] = np.linalg.inv(zetai1)@(zetai@hi1[:,i]+(0.5*CD)*hmat[:,i]-(-0.5*CD)*hmat[:,i+1])\n",
    "\n",
    "Mf = np.zeros((L+1,200))   #final matrix\n",
    "Mf[0,:] = hmat[0,:]\n",
    "Mf[1:-1] = hi1[0:,:]\n",
    "Mf[-1,:] = zeta[-1,:]\n",
    "\n",
    "'''\n",
    "print(Mf)\n",
    "print(hi1) \n",
    "print(\"Zetai1\")\n",
    "print(zetai1)\n",
    "'''\n",
    "#plt.contourf(t,x,Mf)\n",
    "\n",
    "print(zetai1)\n",
    "\n",
    "'''   \n",
    "print(np.size(zetai1))\n",
    "print(np.size(zeta))\n",
    "print(len(zetai1))\n",
    "print(len(zetai1[0]))\n",
    "print(zetai1)\n",
    "\n",
    "#creating the known matrices\n",
    "#M**(k+1)\n",
    "bins = np.array([-1/2*Cd*np.ones(n),(1+Cd)*np.ones(n),-1/2*Cd*np.ones(n)])\n",
    "diags = np.array([-1,0,1])\n",
    "M_k1 = spdiags(bins,diags,n,n).toarray()\n",
    "\n",
    "#M**k\n",
    "bins2 = np.array([1/2*Cd*np.ones(n),(1-Cd)*np.ones(n),1/2*Cd*np.ones(n)])\n",
    "M_k = spdiags(bins2,diags,n,n).toarray()\n",
    "\n",
    "#A\n",
    "A = np.ones(n,len(t))\n",
    "A[1,:] = zeta0_a\n",
    "A[-1,:] = zeta0_b\n",
    "'''"
   ]
  },
  {
   "cell_type": "markdown",
   "id": "bddc9170",
   "metadata": {},
   "source": [
    "# Results"
   ]
  },
  {
   "cell_type": "markdown",
   "id": "e24b28c4",
   "metadata": {},
   "source": [
    "# Figures "
   ]
  },
  {
   "cell_type": "markdown",
   "id": "39aa9418",
   "metadata": {},
   "source": [
    "# Video Walkthrough"
   ]
  },
  {
   "cell_type": "markdown",
   "id": "78bbb0fc",
   "metadata": {},
   "source": [
    "# References\n",
    "Bakker, M. (1970, January 1). Simple groundwater flow models for seawater intrusion: Semantic scholar. undefined. Retrieved November 27, 2022, from https://www.semanticscholar.org/paper/SIMPLE-GROUNDWATER-FLOW-MODELS-FOR-SEAWATER-Bakker/1ac46ef8707dda37496dd907e3dc9e3b0d52c4bc "
   ]
  }
 ],
 "metadata": {
  "kernelspec": {
   "display_name": "Python 3",
   "language": "python",
   "name": "python3"
  },
  "language_info": {
   "codemirror_mode": {
    "name": "ipython",
    "version": 3
   },
   "file_extension": ".py",
   "mimetype": "text/x-python",
   "name": "python",
   "nbconvert_exporter": "python",
   "pygments_lexer": "ipython3",
   "version": "3.8.8"
  }
 },
 "nbformat": 4,
 "nbformat_minor": 5
}
