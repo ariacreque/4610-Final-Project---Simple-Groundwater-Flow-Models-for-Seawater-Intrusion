{
 "cells": [
  {
   "cell_type": "markdown",
   "id": "8e6397c8",
   "metadata": {},
   "source": [
    "# Introduction"
   ]
  },
  {
   "cell_type": "markdown",
   "id": "de22b63c",
   "metadata": {},
   "source": [
    "# Equations"
   ]
  },
  {
   "cell_type": "markdown",
   "id": "92523648",
   "metadata": {},
   "source": [
    "# Numerical Methods"
   ]
  },
  {
   "cell_type": "code",
   "execution_count": 1,
   "id": "482548dc",
   "metadata": {},
   "outputs": [],
   "source": [
    "#EAS 4610 proj\n",
    "#crank-nicolson method \n",
    "\n",
    "# import packages\n",
    "import numpy as np\n",
    "import matplotlib.pyplot as plt\n",
    "import pylab as py\n",
    "import os\n",
    "import math\n",
    "from scipy.sparse import spdiags\n",
    "#import xarray as xr"
   ]
  },
  {
   "cell_type": "code",
   "execution_count": 2,
   "id": "44259e74",
   "metadata": {},
   "outputs": [
    {
     "name": "stdout",
     "output_type": "stream",
     "text": [
      "8.2125 65700000.00000001\n"
     ]
    }
   ],
   "source": [
    "# PARAMETERS \n",
    "\n",
    "k = 2 #m/d   hydraulic conductivity\n",
    "n = 0.2  #effective porosity\n",
    "S = 1e-6  #storage coeff\n",
    "H = 45  #m #thickness of the aquifer\n",
    "zb = -45 #m #bottom of aquifer\n",
    "zt = 0 #m #top of aquifer\n",
    "L = 1000 #m #length of the cross section\n",
    "W = 1 #m #width of cross-section normal to the plane of flow\n",
    "vs = 0.025 #dimensionless density\n",
    "# ditch is located 590 m from the coastline at x = 0\n",
    "h0 = 0.05 #m\n",
    "N = 0 #infiltration of freshwater\n",
    "\n",
    "tau = k*vs*(zt-zb)\n",
    "T = k*(zt-zb)\n",
    "\n",
    "\n",
    "\n",
    "# BOUNDARY CONDITIONS\n",
    "\n",
    "Q0 = 0.1 #m**2/d - outflow, uniform flow towards the coast\n",
    "Q0p = 0.05 #m**2/d - outflow when water is pumped from the ditch\n",
    "zeta0 = -Q0/(k*vs) #m - boundary condition at the coast - top \n",
    "zeta0p = -Q0p/(k*vs) \n",
    "# at x=0, h0 = 0.05 m and zeta0 = -2 m\n",
    "# at t=0, Q = -0.05 m**2/d\n",
    "zetaf = -h0/vs  #steady state condition, end of simulation\n",
    "\n",
    "\n",
    "\n",
    "# DISCRETIZING\n",
    "\n",
    "x = np.linspace(0,L,L+1)\n",
    "dx = 10 #m\n",
    "t = np.linspace(0,36500,500)\n",
    "dt = 73  #half a year in days\n",
    "\n",
    "#courant number \n",
    "D = 1\n",
    "CDz = tau*dt/(n*dx**2)\n",
    "CDh = T*dt/(S*dx**2) #rename to S, currently D as fake storage coeff\n",
    "\n",
    "#n should be the length of the spatial dimension\n",
    "#n = len(x)\n",
    "print(CDz,CDh)"
   ]
  },
  {
   "cell_type": "code",
   "execution_count": 7,
   "id": "eaea0daa",
   "metadata": {},
   "outputs": [
    {
     "name": "stdout",
     "output_type": "stream",
     "text": [
      "[[-2.          0.82664833 -1.02832184 ... -0.0124888  -0.01247625\n",
      "  -0.01246374]\n",
      " [-2.         -0.0025148  -0.62670378 ... -0.02497683 -0.02495174\n",
      "  -0.02492673]\n",
      " [-2.         -0.58845295 -0.54431545 ... -0.03746333 -0.0374257\n",
      "  -0.03738819]\n",
      " ...\n",
      " [-2.         -0.58845295 -0.54431545 ... -0.03746333 -0.0374257\n",
      "  -0.03738819]\n",
      " [-2.         -0.0025148  -0.62670378 ... -0.02497683 -0.02495174\n",
      "  -0.02492673]\n",
      " [-2.          0.82664833 -1.02832184 ... -0.0124888  -0.01247625\n",
      "  -0.01246374]]\n"
     ]
    },
    {
     "data": {
      "text/plain": [
       "'   \\nprint(np.size(zetai1))\\nprint(np.size(zeta))\\nprint(len(zetai1))\\nprint(len(zetai1[0]))\\nprint(zetai1)\\n\\n#creating the known matrices\\n#M**(k+1)\\nbins = np.array([-1/2*Cd*np.ones(n),(1+Cd)*np.ones(n),-1/2*Cd*np.ones(n)])\\ndiags = np.array([-1,0,1])\\nM_k1 = spdiags(bins,diags,n,n).toarray()\\n\\n#M**k\\nbins2 = np.array([1/2*Cd*np.ones(n),(1-Cd)*np.ones(n),1/2*Cd*np.ones(n)])\\nM_k = spdiags(bins2,diags,n,n).toarray()\\n\\n#A\\nA = np.ones(n,len(t))\\nA[1,:] = zeta0_a\\nA[-1,:] = zeta0_b\\n'"
      ]
     },
     "execution_count": 7,
     "metadata": {},
     "output_type": "execute_result"
    },
    {
     "data": {
      "image/png": "[encoded data removed]",
      "text/plain": [
       "<Figure size 432x288 with 2 Axes>"
      ]
     },
     "metadata": {
      "needs_background": "light"
     },
     "output_type": "display_data"
    }
   ],
   "source": [
    "#Making the Matrices/running the model\n",
    "'''\n",
    "data1 = np.array([CDh*np.ones(L+1), (1-2*CDh)*np.ones(L+1), CDh*np.ones(L+1)])\n",
    "diags1 = np.array([-1, 0, 1])\n",
    "M = spdiags(data1, diags1,L-1,L-1).toarray()\n",
    "\n",
    "data2 = np.array([CDh*np.ones(L+1), (1-CDh)*np.ones(L+1), CDh*np.ones(L+1)])\n",
    "diags2 = np.array([-1, 0, 1])\n",
    "M2 = spdiags(data2, diags2,L-1,L-1).toarray()\n",
    "\n",
    "data3 = np.array([CDz*np.ones(L+1), (1-2*CDz/vs)*np.ones(L+1), CDz*np.ones(L+1)])\n",
    "diags3 = np.array([-1, 0, 1])\n",
    "A = spdiags(data3, diags3,L-1,L-1).toarray()\n",
    "\n",
    "data4 = np.array([CDz*np.ones(L+1), (1-CDz/vs)*np.ones(L+1), CDz*np.ones(L+1)])\n",
    "diags4 = np.array([-1, 0, 1])\n",
    "B = spdiags(data4, diags4,L-1,L-1).toarray()\n",
    "'''\n",
    "CD = 2*tau*dt/(n*dx**2)\n",
    "\n",
    "data3 = np.array([-0.5*CD*np.ones(L+1), (1+CD)*np.ones(L+1), -0.5*CD*np.ones(L+1)])\n",
    "diags3 = np.array([-1, 0, 1])\n",
    "A = spdiags(data3, diags3,L-1,L-1).toarray()\n",
    "\n",
    "data4 = np.array([0.5*CD*np.ones(L+1), (1-CD)*np.ones(L+1), 0.5*CD*np.ones(L+1)])\n",
    "diags4 = np.array([-1, 0, 1])\n",
    "B = spdiags(data4, diags4,L-1,L-1).toarray()\n",
    "\n",
    "#M2[0,:] = 0\n",
    "#M[0,:] = 0\n",
    "#M[0,0] = 1\n",
    "\n",
    "#hi1 = np.zeros((L-1,500))\n",
    "#zetai1 = np.zeros((L-1,500))\n",
    "zeta = np.zeros((L-1,500))  #given values matrix for zeta\n",
    "#hmat = np.zeros((L-1,500))  #given values matrix for h\n",
    "\n",
    "\n",
    "#hi1[:,0] = 10 ##CHANGE THIS VALUE, JUST A PLACEHOLDER, INITIAL CONDITION HERE\n",
    "#hmat[0,:] = h0\n",
    "zeta[:,0] = zeta0\n",
    "zeta[-1,:] = zetaf\n",
    "\n",
    "#print(len(zeta))\n",
    "#print(len(zeta[0]))\n",
    "\n",
    "\n",
    "#print((hmat))\n",
    "for i in range(0,len(t)-1):\n",
    "    \n",
    "    zeta[:,i+1] = np.linalg.inv(A)@(B@zeta[:,i])\n",
    "   # hmat[:,i+1] = M@hmat[:,i] + M2@zeta[:,i] #+ N\n",
    "   # zeta[:,i+1] = A@zeta[:,i] + B@hmat[:,i+1] #+ dt/n\n",
    "    \n",
    " #   hi1[:,i+1] = np.matmul(M,hmat[:,i]) + np.matmul(M2,zetai1[:,i]) #+ N\n",
    "  #  zetai1[:,i+1] = np.matmul(A,zeta[:,i]) + np.matmul(B,hi1[:,i+1]) #+ dt/n\n",
    "  #  zetai1[:,i+1] = np.linalg.inv(hi1)@(hi@zetai1[:,i]+(0.5*CD)*zeta[:,i]-(-0.5*CD)*zeta[:,i+1])\n",
    "  #  hi1[:,i+1] = np.linalg.inv(zetai1)@(zetai@hi1[:,i]+(0.5*CD)*hmat[:,i]-(-0.5*CD)*hmat[:,i+1])\n",
    "\n",
    "Mf = np.zeros((L+1,500))   #final matrix\n",
    "Mf[0,:] = -2\n",
    "Mf[1:-1] = zeta[0:,:]\n",
    "#Mf[-1,:] = zeta[-1,:]\n",
    "\n",
    "'''\n",
    "print(Mf)\n",
    "print(hi1) \n",
    "print(\"Zetai1\")\n",
    "print(zetai1)\n",
    "'''\n",
    "print(zeta)\n",
    "\n",
    "z = np.linspace(-45,0,500)\n",
    "#print(Mf[0:55])\n",
    "#plt.contourf(x[0:20],t,np.transpose(Mf[0:20]))\n",
    "plt.contourf(t,x,Mf)\n",
    "#plt.ylim(-45,-38)\n",
    "plt.colorbar()\n",
    "\n",
    "'''\n",
    "for l in range(0,10):\n",
    "    plt.plot(x,Mf[:,l])\n",
    "#plt.ylim(0,5)\n",
    "    plt.xlim(0,50)\n",
    "    plt.show()\n",
    "\n",
    "#print(zetai1)\n",
    "'''\n",
    "'''   \n",
    "print(np.size(zetai1))\n",
    "print(np.size(zeta))\n",
    "print(len(zetai1))\n",
    "print(len(zetai1[0]))\n",
    "print(zetai1)\n",
    "\n",
    "#creating the known matrices\n",
    "#M**(k+1)\n",
    "bins = np.array([-1/2*Cd*np.ones(n),(1+Cd)*np.ones(n),-1/2*Cd*np.ones(n)])\n",
    "diags = np.array([-1,0,1])\n",
    "M_k1 = spdiags(bins,diags,n,n).toarray()\n",
    "\n",
    "#M**k\n",
    "bins2 = np.array([1/2*Cd*np.ones(n),(1-Cd)*np.ones(n),1/2*Cd*np.ones(n)])\n",
    "M_k = spdiags(bins2,diags,n,n).toarray()\n",
    "\n",
    "#A\n",
    "A = np.ones(n,len(t))\n",
    "A[1,:] = zeta0_a\n",
    "A[-1,:] = zeta0_b\n",
    "'''"
   ]
  },
  {
   "cell_type": "markdown",
   "id": "bddc9170",
   "metadata": {},
   "source": [
    "### Results"
   ]
  },
  {
   "cell_type": "markdown",
   "id": "e24b28c4",
   "metadata": {},
   "source": [
    "# Figures "
   ]
  },
  {
   "cell_type": "markdown",
   "id": "39aa9418",
   "metadata": {},
   "source": [
    "# Video Walkthrough"
   ]
  },
  {
   "cell_type": "markdown",
   "id": "78bbb0fc",
   "metadata": {},
   "source": [
    "# References\n",
    "Bakker, M. (1970, January 1). Simple groundwater flow models for seawater intrusion: Semantic scholar. undefined. Retrieved November 27, 2022, from https://www.semanticscholar.org/paper/SIMPLE-GROUNDWATER-FLOW-MODELS-FOR-SEAWATER-Bakker/1ac46ef8707dda37496dd907e3dc9e3b0d52c4bc "
   ]
  }
 ],
 "metadata": {
  "kernelspec": {
   "display_name": "Python 3",
   "language": "python",
   "name": "python3"
  },
  "language_info": {
   "codemirror_mode": {
    "name": "ipython",
    "version": 3
   },
   "file_extension": ".py",
   "mimetype": "text/x-python",
   "name": "python",
   "nbconvert_exporter": "python",
   "pygments_lexer": "ipython3",
   "version": "3.8.8"
  }
 },
 "nbformat": 4,
 "nbformat_minor": 5
}
