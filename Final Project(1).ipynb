{
 "cells": [
  {
   "cell_type": "markdown",
   "id": "8e6397c8",
   "metadata": {},
   "source": [
    "# Introduction"
   ]
  },
  {
   "cell_type": "markdown",
   "id": "de22b63c",
   "metadata": {},
   "source": [
    "# Equations"
   ]
  },
  {
   "cell_type": "markdown",
   "id": "92523648",
   "metadata": {},
   "source": [
    "# Numerical Methods"
   ]
  },
  {
   "cell_type": "code",
   "execution_count": 3,
   "id": "482548dc",
   "metadata": {},
   "outputs": [
    {
     "name": "stdout",
     "output_type": "stream",
     "text": [
      "[[-2. -2. -2. ... -2. -2. -2.]\n",
      " [ 0.  0.  0. ...  0.  0.  0.]\n",
      " [ 0.  0.  0. ...  0.  0.  0.]\n",
      " ...\n",
      " [ 0.  0.  0. ...  0.  0.  0.]\n",
      " [ 0.  0.  0. ...  0.  0.  0.]\n",
      " [-2. -2. -2. ... -2. -2. -2.]]\n",
      "[[0.00000000e+00 2.48757758e-04 4.95046442e-04 ... 2.36483270e-02\n",
      "  2.37029150e-02 2.37571928e-02]\n",
      " [0.00000000e+00 6.18804223e-07 2.46293286e-06 ... 8.24543849e-03\n",
      "  8.29227982e-03 8.33903279e-03]\n",
      " [0.00000000e+00 1.53932351e-09 9.19010485e-09 ... 2.21963311e-03\n",
      "  2.24109552e-03 2.26261087e-03]\n",
      " ...\n",
      " [0.00000000e+00 0.00000000e+00 0.00000000e+00 ... 0.00000000e+00\n",
      "  0.00000000e+00 0.00000000e+00]\n",
      " [0.00000000e+00 0.00000000e+00 0.00000000e+00 ... 0.00000000e+00\n",
      "  0.00000000e+00 0.00000000e+00]\n",
      " [0.00000000e+00 0.00000000e+00 0.00000000e+00 ... 0.00000000e+00\n",
      "  0.00000000e+00 0.00000000e+00]]\n"
     ]
    },
    {
     "data": {
      "text/plain": [
       "'\\n#creating the known matrices\\n#M**(k+1)\\nbins = np.array([-1/2*Cd*np.ones(n),(1+Cd)*np.ones(n),-1/2*Cd*np.ones(n)])\\ndiags = np.array([-1,0,1])\\nM_k1 = spdiags(bins,diags,n,n).toarray()\\n\\n#M**k\\nbins2 = np.array([1/2*Cd*np.ones(n),(1-Cd)*np.ones(n),1/2*Cd*np.ones(n)])\\nM_k = spdiags(bins2,diags,n,n).toarray()\\n\\n#A\\nA = np.ones(n,len(t))\\nA[1,:] = zeta0_a\\nA[-1,:] = zeta0_b\\n'"
      ]
     },
     "execution_count": 3,
     "metadata": {},
     "output_type": "execute_result"
    }
   ],
   "source": [
    "#EAS 4610 proj\n",
    "#crank-nicolson method \n",
    "\n",
    "# import packages\n",
    "import numpy as np\n",
    "import matplotlib.pyplot as plt\n",
    "import pylab as py\n",
    "import os\n",
    "import math\n",
    "from scipy.sparse import spdiags\n",
    "#import xarray as xr\n",
    "\n",
    "# parameters \n",
    "k = 2 #m/d\n",
    "n = 0.2 #effective porosity \n",
    "S = 0 #storage coefficient \n",
    "H = 45 #m\n",
    "zb = -45 #bottom of the aquifer\n",
    "zt = 0 #top of the aquifer\n",
    "L = 1000 #m, length of cross section\n",
    "W = 1 #width of cross section normal to the plane of flow\n",
    "vs = 0.025 #dimensionless density \n",
    "# ditch is located 590 m from the coastline at x = 0\n",
    "h0 = 0.05 #m\n",
    "\n",
    "\n",
    "# defining boundary conditions\n",
    "Q0 = 0.1 #m**2/d - outflow, uniform flow towards the coast\n",
    "Q0p = 0.05 #m**2/d - outflow when water is pumped from the ditch\n",
    "zeta0 = -Q0/(k*vs) #m - boundary condition at the coast - top \n",
    "zeta0p = -Q0p/(k*vs) \n",
    "# at x=0, h0 = 0.05 m and zeta0 = -2 m\n",
    "# at t=0, Q = -0.05 m**2/d\n",
    "zetaf = -h0/vs  #steady state condition, end of simulation\n",
    "\n",
    "\n",
    "# discretizing\n",
    "x = np.linspace(0,L,L+1)\n",
    "dx = 10 #m\n",
    "t = np.linspace(0,100,200)\n",
    "dt = 0.5 #yr\n",
    "\n",
    "#courant number \n",
    "# no diffusion number?\n",
    "D = 1\n",
    "CD = (D*dt)/(dx**2)\n",
    "\n",
    "#n should be the length of the spatial dimension\n",
    "n = len(x)\n",
    "\n",
    "\n",
    "data_hi1 = np.array([-0.5*CD*np.ones(L+1), (1+CD)*np.ones(L+1), -0.5*CD*np.ones(L+1)])\n",
    "diags1 = np.array([-1,0,1])\n",
    "hi1 = spdiags(data_hi1,diags1,L-1,L-1).toarray()\n",
    "#above coeff matrix: is it needed? prob not\n",
    "\n",
    "data_hi = np.array([0.5*CD*np.ones(L+1), (1-CD)*np.ones(L+1), 0.5*CD*np.ones(L+1)])\n",
    "diags2 = np.array([-1,0,1])\n",
    "hi = spdiags(data_hi,diags2,L-1,L-1).toarray()\n",
    "\n",
    "\n",
    "data_zetai1 = np.array([-0.5*CD*np.ones(L+1), (1+CD)*np.ones(L+1), -0.5*CD*np.ones(L+1)])\n",
    "diags3 = np.array([-1,0,1])\n",
    "zetai1 = spdiags(data_zetai1,diags3,L-1,L-1).toarray()\n",
    "\n",
    "data_zetai = np.array([0.5*CD*np.ones(L+1), (1-CD)*np.ones(L+1), 0.5*CD*np.ones(L+1)])\n",
    "diags4 = np.array([-1,0,1])\n",
    "zetai = spdiags(data_zetai,diags4,L-1,L-1).toarray()\n",
    "\n",
    "\n",
    "hi1 = np.zeros((L-1,200))\n",
    "zeta = np.zeros((L-1,200))  #given values matrix for zeta\n",
    "hmat = np.zeros((L-1,200))  #given values matrix for h\n",
    "\n",
    "\n",
    "#hi1[:,0] = 10 ##CHANGE THIS VALUE, JUST A PLACEHOLDER, INITIAL CONDITION HERE\n",
    "hmat[0,:] = h0\n",
    "zeta[0,:] = zeta0\n",
    "zeta[-1,:] = zetaf\n",
    "\n",
    "print((zeta))\n",
    "for i in range(0,len(t)-1):\n",
    "  #  zetai1[:,i+1] = np.linalg.inv(hi1)@(hi@zetai1[:,i]+(0.5*CD)*zeta[:,i]-(-0.5*CD)*zeta[:,i+1])\n",
    "    hi1[:,i+1] = np.linalg.inv(zetai1)@(zetai@hi1[:,i]+(0.5*CD)*hmat[:,i]-(-0.5*CD)*hmat[:,i+1])\n",
    "print(hi1)\n",
    "'''\n",
    "#creating the known matrices\n",
    "#M**(k+1)\n",
    "bins = np.array([-1/2*Cd*np.ones(n),(1+Cd)*np.ones(n),-1/2*Cd*np.ones(n)])\n",
    "diags = np.array([-1,0,1])\n",
    "M_k1 = spdiags(bins,diags,n,n).toarray()\n",
    "\n",
    "#M**k\n",
    "bins2 = np.array([1/2*Cd*np.ones(n),(1-Cd)*np.ones(n),1/2*Cd*np.ones(n)])\n",
    "M_k = spdiags(bins2,diags,n,n).toarray()\n",
    "\n",
    "#A\n",
    "A = np.ones(n,len(t))\n",
    "A[1,:] = zeta0_a\n",
    "A[-1,:] = zeta0_b\n",
    "'''"
   ]
  },
  {
   "cell_type": "markdown",
   "id": "bddc9170",
   "metadata": {},
   "source": [
    "# Results"
   ]
  },
  {
   "cell_type": "markdown",
   "id": "e24b28c4",
   "metadata": {},
   "source": [
    "# Figures "
   ]
  },
  {
   "cell_type": "markdown",
   "id": "39aa9418",
   "metadata": {},
   "source": [
    "# Video Walkthrough"
   ]
  },
  {
   "cell_type": "markdown",
   "id": "78bbb0fc",
   "metadata": {},
   "source": [
    "# References\n",
    "Bakker, M. (1970, January 1). Simple groundwater flow models for seawater intrusion: Semantic scholar. undefined. Retrieved November 27, 2022, from https://www.semanticscholar.org/paper/SIMPLE-GROUNDWATER-FLOW-MODELS-FOR-SEAWATER-Bakker/1ac46ef8707dda37496dd907e3dc9e3b0d52c4bc "
   ]
  }
 ],
 "metadata": {
  "kernelspec": {
   "display_name": "Python 3",
   "language": "python",
   "name": "python3"
  },
  "language_info": {
   "codemirror_mode": {
    "name": "ipython",
    "version": 3
   },
   "file_extension": ".py",
   "mimetype": "text/x-python",
   "name": "python",
   "nbconvert_exporter": "python",
   "pygments_lexer": "ipython3",
   "version": "3.8.8"
  }
 },
 "nbformat": 4,
 "nbformat_minor": 5
}
